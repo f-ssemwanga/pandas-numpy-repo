{
 "cells": [
  {
   "cell_type": "markdown",
   "metadata": {},
   "source": [
    "## Customer Call Data Cleaning Exercise\n",
    "- The task is to study the data and perform data cleaning before exporting the data to a suitable format\n",
    "[Customer Call Data](customerCallList.xlsx)\n",
    "\n",
    "#### Identified issues with data set\n",
    "![Identified Issues](identifiedIssues.png)"
   ]
  },
  {
   "cell_type": "code",
   "execution_count": null,
   "metadata": {},
   "outputs": [],
   "source": []
  }
 ],
 "metadata": {
  "language_info": {
   "name": "python"
  },
  "orig_nbformat": 4
 },
 "nbformat": 4,
 "nbformat_minor": 2
}
