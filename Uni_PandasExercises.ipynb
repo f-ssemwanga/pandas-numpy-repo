{
 "cells": [
  {
   "cell_type": "markdown",
   "metadata": {},
   "source": [
    "#### Exercise one:\n",
    "Revisit the [sample code here](W1_4_Data_Structures.ipynb) from week 1 which contains data in a number of different data structures, such as list[] and dict(). Using these structures within a program and see what you can convert into either a pandas's Series or DataFrame. "
   ]
  },
  {
   "cell_type": "markdown",
   "metadata": {},
   "source": [
    "#### Exercise two:\n",
    "Import the [following .csv file](SalesData.csv) into an appropriate data structure in pandas. Using the functions available in pandas and NumPy (where they are more appropriate) output answers to the following questions:\n",
    "\n",
    "- What were the sales for P2 and B8 in Nov-18, Feb-18 and Mar-19?\n",
    "- In the third quarter (Oct-18 to Dec-18) what were the sales figures for London (L3 & 1) and what was the monthly percentage increase?\n",
    "- What were the top three months for New York (N6 and N4) and in which stores did they occur?\n",
    "- What was the overall lowest sales figure in which store and which month?"
   ]
  },
  {
   "cell_type": "code",
   "execution_count": 76,
   "metadata": {},
   "outputs": [
    {
     "data": {
      "text/html": [
       "<div>\n",
       "<style scoped>\n",
       "    .dataframe tbody tr th:only-of-type {\n",
       "        vertical-align: middle;\n",
       "    }\n",
       "\n",
       "    .dataframe tbody tr th {\n",
       "        vertical-align: top;\n",
       "    }\n",
       "\n",
       "    .dataframe thead th {\n",
       "        text-align: right;\n",
       "    }\n",
       "</style>\n",
       "<table border=\"1\" class=\"dataframe\">\n",
       "  <thead>\n",
       "    <tr style=\"text-align: right;\">\n",
       "      <th></th>\n",
       "      <th>Unnamed: 0</th>\n",
       "      <th>Apr-18</th>\n",
       "      <th>May-18</th>\n",
       "      <th>Jun-18</th>\n",
       "      <th>Jul-18</th>\n",
       "      <th>Aug-18</th>\n",
       "      <th>Sep-18</th>\n",
       "      <th>Oct-18</th>\n",
       "      <th>Nov-18</th>\n",
       "      <th>Dec-18</th>\n",
       "      <th>Jan-19</th>\n",
       "      <th>Feb-19</th>\n",
       "      <th>Mar-19</th>\n",
       "    </tr>\n",
       "  </thead>\n",
       "  <tbody>\n",
       "    <tr>\n",
       "      <th>0</th>\n",
       "      <td>L3</td>\n",
       "      <td>390</td>\n",
       "      <td>345</td>\n",
       "      <td>379</td>\n",
       "      <td>353</td>\n",
       "      <td>365</td>\n",
       "      <td>326</td>\n",
       "      <td>363</td>\n",
       "      <td>459</td>\n",
       "      <td>539</td>\n",
       "      <td>474</td>\n",
       "      <td>340</td>\n",
       "      <td>343</td>\n",
       "    </tr>\n",
       "    <tr>\n",
       "      <th>1</th>\n",
       "      <td>L1</td>\n",
       "      <td>392</td>\n",
       "      <td>377</td>\n",
       "      <td>347</td>\n",
       "      <td>395</td>\n",
       "      <td>330</td>\n",
       "      <td>332</td>\n",
       "      <td>340</td>\n",
       "      <td>446</td>\n",
       "      <td>573</td>\n",
       "      <td>464</td>\n",
       "      <td>223</td>\n",
       "      <td>216</td>\n",
       "    </tr>\n",
       "    <tr>\n",
       "      <th>2</th>\n",
       "      <td>P2</td>\n",
       "      <td>250</td>\n",
       "      <td>270</td>\n",
       "      <td>300</td>\n",
       "      <td>398</td>\n",
       "      <td>376</td>\n",
       "      <td>382</td>\n",
       "      <td>306</td>\n",
       "      <td>489</td>\n",
       "      <td>552</td>\n",
       "      <td>488</td>\n",
       "      <td>298</td>\n",
       "      <td>269</td>\n",
       "    </tr>\n",
       "    <tr>\n",
       "      <th>3</th>\n",
       "      <td>N6</td>\n",
       "      <td>460</td>\n",
       "      <td>480</td>\n",
       "      <td>450</td>\n",
       "      <td>310</td>\n",
       "      <td>392</td>\n",
       "      <td>383</td>\n",
       "      <td>314</td>\n",
       "      <td>402</td>\n",
       "      <td>640</td>\n",
       "      <td>495</td>\n",
       "      <td>215</td>\n",
       "      <td>243</td>\n",
       "    </tr>\n",
       "    <tr>\n",
       "      <th>4</th>\n",
       "      <td>N4</td>\n",
       "      <td>460</td>\n",
       "      <td>480</td>\n",
       "      <td>450</td>\n",
       "      <td>387</td>\n",
       "      <td>388</td>\n",
       "      <td>320</td>\n",
       "      <td>337</td>\n",
       "      <td>478</td>\n",
       "      <td>676</td>\n",
       "      <td>408</td>\n",
       "      <td>338</td>\n",
       "      <td>263</td>\n",
       "    </tr>\n",
       "    <tr>\n",
       "      <th>5</th>\n",
       "      <td>B8</td>\n",
       "      <td>470</td>\n",
       "      <td>510</td>\n",
       "      <td>360</td>\n",
       "      <td>472</td>\n",
       "      <td>423</td>\n",
       "      <td>385</td>\n",
       "      <td>353</td>\n",
       "      <td>464</td>\n",
       "      <td>598</td>\n",
       "      <td>419</td>\n",
       "      <td>459</td>\n",
       "      <td>659</td>\n",
       "    </tr>\n",
       "  </tbody>\n",
       "</table>\n",
       "</div>"
      ],
      "text/plain": [
       "  Unnamed: 0  Apr-18  May-18  Jun-18  Jul-18  Aug-18  Sep-18  Oct-18  Nov-18  \\\n",
       "0         L3     390     345     379     353     365     326     363     459   \n",
       "1         L1     392     377     347     395     330     332     340     446   \n",
       "2         P2     250     270     300     398     376     382     306     489   \n",
       "3         N6     460     480     450     310     392     383     314     402   \n",
       "4         N4     460     480     450     387     388     320     337     478   \n",
       "5         B8     470     510     360     472     423     385     353     464   \n",
       "\n",
       "   Dec-18  Jan-19  Feb-19  Mar-19  \n",
       "0     539     474     340     343  \n",
       "1     573     464     223     216  \n",
       "2     552     488     298     269  \n",
       "3     640     495     215     243  \n",
       "4     676     408     338     263  \n",
       "5     598     419     459     659  "
      ]
     },
     "execution_count": 76,
     "metadata": {},
     "output_type": "execute_result"
    }
   ],
   "source": [
    "import pandas as pd\n",
    "import numpy as np\n",
    "gap =\"\\n--------------------------------------------------------------------\\n\"\n",
    "df = pd.read_csv(\"SalesData.csv\")\n",
    "df"
   ]
  },
  {
   "cell_type": "code",
   "execution_count": 77,
   "metadata": {},
   "outputs": [
    {
     "name": "stdout",
     "output_type": "stream",
     "text": [
      "P2 Sales in Nov, Feb and March are:\n",
      "Nov-18    402\n",
      "Feb-19    215\n",
      "Mar-19    243\n",
      "Name: 3, dtype: object\n",
      "\n",
      "--------------------------------------------------------------------\n",
      "\n",
      "B8 Sales in Nov, Feb and March are:\n",
      "Nov-18    464\n",
      "Feb-19    459\n",
      "Mar-19    659\n",
      "Name: 5, dtype: object\n"
     ]
    }
   ],
   "source": [
    "#What were the sales for P2 and B8 in Nov-18, Feb-19 and Mar-19?\n",
    "\n",
    "p2_nov_feb_Mar = df.iloc[3,[8,11,12]] #using indexes\n",
    "b8_nov_feb_Mar = df.iloc[5,[8,11,12]] #using indexes\n",
    "print(f'P2 Sales in Nov, Feb and March are:\\n{p2_nov_feb_Mar}')\n",
    "print(gap)\n",
    "print(f'B8 Sales in Nov, Feb and March are:\\n{b8_nov_feb_Mar}')\n",
    "\n"
   ]
  },
  {
   "cell_type": "code",
   "execution_count": 88,
   "metadata": {},
   "outputs": [
    {
     "name": "stdout",
     "output_type": "stream",
     "text": [
      "3rd Quarter Sales for  London:\n",
      "   Oct-18  Nov-18  Dec-18\n",
      "0     363     459     539\n",
      "1     340     446     573\n",
      "\n",
      "--------------------------------------------------------------------\n",
      "\n",
      "3rd Quarter Sales percentage Increase:\n",
      "     Oct-18    Nov-18    Dec-18\n",
      "0       NaN       NaN       NaN\n",
      "1 -6.336088 -2.832244  6.307978%\n"
     ]
    }
   ],
   "source": [
    "#In the third quarter (Oct-18 to Dec-18) \n",
    "# what were the sales figures for London (L3 & 1) \n",
    "# and what was the monthly percentage increase?\n",
    "\n",
    "l3_l2_3rd_quarter_figures = df.iloc[:2,[7,8,9]] #using indexes\n",
    "print(f'3rd Quarter Sales for  London:\\n{l3_l2_3rd_quarter_figures}')\n",
    "print(gap)\n",
    "\n",
    "#calculate monthly percentage increase using pct_change()\n",
    "monthly_percentage_increase = l3_l2_3rd_quarter_figures.pct_change()\n",
    "print(f'3rd Quarter Sales percentage Increase:\\n{monthly_percentage_increase *100}%')"
   ]
  },
  {
   "cell_type": "code",
   "execution_count": 90,
   "metadata": {},
   "outputs": [
    {
     "name": "stdout",
     "output_type": "stream",
     "text": [
      "  Unnamed: 0  Apr-18  May-18  Jun-18  Jul-18  Aug-18  Sep-18  Oct-18  Nov-18  \\\n",
      "3         N6     460     480     450     310     392     383     314     402   \n",
      "4         N4     460     480     450     387     388     320     337     478   \n",
      "\n",
      "   Dec-18  Jan-19  Feb-19  Mar-19  \n",
      "3     640     495     215     243  \n",
      "4     676     408     338     263  \n",
      "4  Dec-18    676\n",
      "3  Dec-18    640\n",
      "   Jan-19    495\n",
      "dtype: int64\n"
     ]
    }
   ],
   "source": [
    "#What were the top three months for New York (N6 and N4) \n",
    "# and in which stores did they occur?\n",
    "\n",
    "my_stores = df[df['Unnamed: 0'].isin(['N6','N4'])]\n",
    "print(my_stores)\n",
    "\n",
    "#find top 3 months for NewYork Stores\n",
    "top_three_months = my_stores.drop(columns='Unnamed: 0').stack().nlargest(3)\n",
    "print(top_three_months)\n"
   ]
  },
  {
   "cell_type": "markdown",
   "metadata": {},
   "source": [
    "#### Exercise three:\n",
    "Using the data set from exercise 2, above, create a new data table, including headings, that gives the percentage increase for each month, based on the stores average for the year. From this ascertain:\n",
    "\n",
    "- Which store had the largest and smallest increase and in which months did they occur?\n",
    "- Across all the stores which months showed the smallest average increase and the largest average increase?"
   ]
  }
 ],
 "metadata": {
  "kernelspec": {
   "display_name": "Python 3",
   "language": "python",
   "name": "python3"
  },
  "language_info": {
   "codemirror_mode": {
    "name": "ipython",
    "version": 3
   },
   "file_extension": ".py",
   "mimetype": "text/x-python",
   "name": "python",
   "nbconvert_exporter": "python",
   "pygments_lexer": "ipython3",
   "version": "3.11.4"
  },
  "orig_nbformat": 4
 },
 "nbformat": 4,
 "nbformat_minor": 2
}
