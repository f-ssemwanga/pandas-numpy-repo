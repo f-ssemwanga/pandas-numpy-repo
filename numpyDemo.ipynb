{
 "cells": [
  {
   "cell_type": "markdown",
   "metadata": {},
   "source": [
    "![What is NumPy](whatIsNumPy.png)\n",
    "\n",
    "![Why NumPy](whyNumPy.png)"
   ]
  },
  {
   "cell_type": "markdown",
   "metadata": {},
   "source": [
    "### Loading in NumPy"
   ]
  },
  {
   "cell_type": "code",
   "execution_count": 4,
   "metadata": {},
   "outputs": [],
   "source": [
    "import numpy as np\n",
    "sep =\"-----------------------------------------------------------------\""
   ]
  },
  {
   "cell_type": "code",
   "execution_count": 5,
   "metadata": {},
   "outputs": [
    {
     "name": "stdout",
     "output_type": "stream",
     "text": [
      "[1 2 3 4]\n"
     ]
    }
   ],
   "source": [
    "#initialise an array\n",
    "\n",
    "arr = np.array([1,2,3,4], dtype='int32')\n",
    "print(arr)"
   ]
  },
  {
   "cell_type": "code",
   "execution_count": 6,
   "metadata": {},
   "outputs": [
    {
     "name": "stdout",
     "output_type": "stream",
     "text": [
      "[[1. 3. 6.]\n",
      " [3. 5. 7.]]\n"
     ]
    }
   ],
   "source": [
    "arr2 = np.array([[1., 3., 6.],[3.,5., 7.]])\n",
    "print(arr2)"
   ]
  },
  {
   "cell_type": "code",
   "execution_count": 7,
   "metadata": {},
   "outputs": [
    {
     "name": "stdout",
     "output_type": "stream",
     "text": [
      "(4,)\n",
      "(2, 3)\n",
      "2\n",
      "int32\n",
      "float64\n"
     ]
    }
   ],
   "source": [
    "# get dimensions\n",
    "print(arr.shape)\n",
    "print(arr2.shape)\n",
    "print(arr2.ndim)\n",
    "print(arr.dtype)\n",
    "print(arr2.dtype)"
   ]
  },
  {
   "cell_type": "code",
   "execution_count": 8,
   "metadata": {},
   "outputs": [
    {
     "data": {
      "text/plain": [
       "16"
      ]
     },
     "execution_count": 8,
     "metadata": {},
     "output_type": "execute_result"
    }
   ],
   "source": [
    "#get size\n",
    "arr.itemsize\n",
    "#total size\n",
    "arr.size * arr.itemsize\n",
    "#above is similar to\n",
    "arr.nbytes"
   ]
  },
  {
   "cell_type": "code",
   "execution_count": 9,
   "metadata": {},
   "outputs": [
    {
     "data": {
      "text/plain": [
       "48"
      ]
     },
     "execution_count": 9,
     "metadata": {},
     "output_type": "execute_result"
    }
   ],
   "source": [
    "#applying the above to a float\n",
    "arr2.nbytes"
   ]
  },
  {
   "cell_type": "markdown",
   "metadata": {},
   "source": [
    "### Basics of Indexing  - Accessing / changing specific elements, rows, columns etc"
   ]
  },
  {
   "cell_type": "code",
   "execution_count": 10,
   "metadata": {},
   "outputs": [
    {
     "name": "stdout",
     "output_type": "stream",
     "text": [
      "[[ 1  2  3  4  5  6  7]\n",
      " [ 8  9 10 11 12 13 14]]\n"
     ]
    },
    {
     "data": {
      "text/plain": [
       "(2, 7)"
      ]
     },
     "execution_count": 10,
     "metadata": {},
     "output_type": "execute_result"
    }
   ],
   "source": [
    "a = np.array([[1,2,3,4,5,6,7], [8,9,10,11,12,13,14]])\n",
    "print(a)\n",
    "a.shape"
   ]
  },
  {
   "cell_type": "code",
   "execution_count": 11,
   "metadata": {},
   "outputs": [
    {
     "data": {
      "text/plain": [
       "13"
      ]
     },
     "execution_count": 11,
     "metadata": {},
     "output_type": "execute_result"
    }
   ],
   "source": [
    "#get a specific element [r,c]\n",
    "a[1,5] #prints 13 or a[1, -2]"
   ]
  },
  {
   "cell_type": "code",
   "execution_count": 12,
   "metadata": {},
   "outputs": [
    {
     "data": {
      "text/plain": [
       "array([1, 2, 3, 4, 5, 6, 7])"
      ]
     },
     "execution_count": 12,
     "metadata": {},
     "output_type": "execute_result"
    }
   ],
   "source": [
    "#get a specific row - first row\n",
    "a[0, :]"
   ]
  },
  {
   "cell_type": "code",
   "execution_count": 13,
   "metadata": {},
   "outputs": [
    {
     "data": {
      "text/plain": [
       "array([ 3, 10])"
      ]
     },
     "execution_count": 13,
     "metadata": {},
     "output_type": "execute_result"
    }
   ],
   "source": [
    "#get a specific column e.g. items in the second column\n",
    "a[:,2]"
   ]
  },
  {
   "cell_type": "code",
   "execution_count": 14,
   "metadata": {},
   "outputs": [
    {
     "data": {
      "text/plain": [
       "array([2, 4, 6])"
      ]
     },
     "execution_count": 14,
     "metadata": {},
     "output_type": "execute_result"
    }
   ],
   "source": [
    "#getting [startindex:endIndex:Stepsize]\n",
    "a[0, 1:6:2]"
   ]
  },
  {
   "cell_type": "code",
   "execution_count": 15,
   "metadata": {},
   "outputs": [
    {
     "name": "stdout",
     "output_type": "stream",
     "text": [
      "[[ 1  2  3  4  5  6  7]\n",
      " [ 8  9 10 11 12 20 14]]\n"
     ]
    }
   ],
   "source": [
    "#'change the content'\n",
    "a[1,5] = 20\n",
    "print(a)"
   ]
  },
  {
   "cell_type": "code",
   "execution_count": 16,
   "metadata": {},
   "outputs": [
    {
     "name": "stdout",
     "output_type": "stream",
     "text": [
      "[[ 1  2  5  4  5  6  7]\n",
      " [ 8  9  5 11 12 20 14]]\n"
     ]
    }
   ],
   "source": [
    "#replacing series of numbers e.g. values in a column - e.g. values in column 2\n",
    "a[:,2] = [5,5]\n",
    "print(a)"
   ]
  },
  {
   "cell_type": "code",
   "execution_count": 17,
   "metadata": {},
   "outputs": [
    {
     "name": "stdout",
     "output_type": "stream",
     "text": [
      "[[[1 2]\n",
      "  [3 4]]\n",
      "\n",
      " [[5 6]\n",
      "  [7 8]]]\n"
     ]
    }
   ],
   "source": [
    "#working with a 3d Array\n",
    "b = np.array(\n",
    " [[[1,2],\n",
    "   [3,4]],\n",
    "   [[5,6],\n",
    "   [7,8]]]\n",
    ")\n",
    "print(b)"
   ]
  },
  {
   "cell_type": "code",
   "execution_count": 18,
   "metadata": {},
   "outputs": [
    {
     "data": {
      "text/plain": [
       "4"
      ]
     },
     "execution_count": 18,
     "metadata": {},
     "output_type": "execute_result"
    }
   ],
   "source": [
    "#Getting  specific element (work outside in)\n",
    "#extracting 4 from the above array\n",
    "b[0,1,1]"
   ]
  },
  {
   "cell_type": "code",
   "execution_count": 19,
   "metadata": {},
   "outputs": [
    {
     "data": {
      "text/plain": [
       "array([[[1, 2],\n",
       "        [9, 9]],\n",
       "\n",
       "       [[5, 6],\n",
       "        [8, 8]]])"
      ]
     },
     "execution_count": 19,
     "metadata": {},
     "output_type": "execute_result"
    }
   ],
   "source": [
    "#replacing a subsequence\n",
    "b[:,1,:]  = [[9,9],[8,8]]\n",
    "b"
   ]
  },
  {
   "cell_type": "markdown",
   "metadata": {},
   "source": [
    "### Initialising different types of Arrays"
   ]
  },
  {
   "cell_type": "code",
   "execution_count": 20,
   "metadata": {},
   "outputs": [
    {
     "name": "stdout",
     "output_type": "stream",
     "text": [
      "[0. 0. 0. 0. 0.]\n",
      "[[0. 0. 0.]\n",
      " [0. 0. 0.]]\n",
      "[[[0. 0. 0.]\n",
      "  [0. 0. 0.]\n",
      "  [0. 0. 0.]]\n",
      "\n",
      " [[0. 0. 0.]\n",
      "  [0. 0. 0.]\n",
      "  [0. 0. 0.]]]\n"
     ]
    }
   ],
   "source": [
    "#All zero matrix\n",
    "print(np.zeros(5))\n",
    "print(np.zeros((2,3)))\n",
    "print(np.zeros ((2,3,3)))"
   ]
  },
  {
   "cell_type": "code",
   "execution_count": 21,
   "metadata": {},
   "outputs": [
    {
     "name": "stdout",
     "output_type": "stream",
     "text": [
      "[[[1]\n",
      "  [1]]\n",
      "\n",
      " [[1]\n",
      "  [1]]\n",
      "\n",
      " [[1]\n",
      "  [1]]\n",
      "\n",
      " [[1]\n",
      "  [1]]]\n"
     ]
    }
   ],
   "source": [
    "#all ones matrix\n",
    "print(np.ones ((4,2,1), dtype='int32'))"
   ]
  },
  {
   "cell_type": "code",
   "execution_count": 32,
   "metadata": {},
   "outputs": [
    {
     "name": "stdout",
     "output_type": "stream",
     "text": [
      "[[99. 99. 99.]\n",
      " [99. 99. 99.]]\n"
     ]
    }
   ],
   "source": [
    "#any other number using full, takes the shape and the values\n",
    "print(np.full((2,3),99, dtype='float32'))\n"
   ]
  },
  {
   "cell_type": "code",
   "execution_count": 23,
   "metadata": {},
   "outputs": [
    {
     "name": "stdout",
     "output_type": "stream",
     "text": [
      "[[4 4 4 4 4 4 4]\n",
      " [4 4 4 4 4 4 4]]\n",
      "[[5. 5. 5.]\n",
      " [5. 5. 5.]]\n"
     ]
    }
   ],
   "source": [
    "#array creation using the full_like() method\n",
    "#builds another array based on an existing array's shape\n",
    "print(np.full_like(a, 4))\n",
    "print(np.full_like(arr2,5))"
   ]
  },
  {
   "cell_type": "code",
   "execution_count": 24,
   "metadata": {},
   "outputs": [
    {
     "name": "stdout",
     "output_type": "stream",
     "text": [
      "[[[0.42856375 0.31892484 0.98838509]\n",
      "  [0.70155513 0.40547365 0.89682181]]\n",
      "\n",
      " [[0.97375051 0.00682114 0.54731438]\n",
      "  [0.4099619  0.26350103 0.39602353]]\n",
      "\n",
      " [[0.94166462 0.25824444 0.53913884]\n",
      "  [0.3035908  0.88139307 0.2428717 ]]\n",
      "\n",
      " [[0.26771275 0.40892423 0.17603258]\n",
      "  [0.52048315 0.1337023  0.49890234]]]\n",
      "-----------------------------------------------------------------\n",
      "[[0.43989604 0.33791336 0.19457695 0.1271081  0.83997047 0.22062606\n",
      "  0.08772461]\n",
      " [0.39775835 0.99624592 0.09340686 0.20121729 0.99950711 0.12742354\n",
      "  0.40137028]]\n"
     ]
    }
   ],
   "source": [
    "#Initialise a matrix of random numbers - passing the shape\n",
    "print(np.random.rand(4,2,3))\n",
    "\n",
    "#building random array using an existing shape\n",
    "print(sep)\n",
    "print(np.random.random_sample(a.shape))"
   ]
  },
  {
   "cell_type": "code",
   "execution_count": 25,
   "metadata": {},
   "outputs": [
    {
     "name": "stdout",
     "output_type": "stream",
     "text": [
      "[[5 3 6]\n",
      " [6 4 5]\n",
      " [2 1 1]]\n",
      "-----------------------------------------------------------------\n",
      "[[6 4 5]\n",
      " [5 6 4]\n",
      " [6 4 5]]\n"
     ]
    }
   ],
   "source": [
    "#random integer values\n",
    "print(np.random.randint(7, size=(3,3))) #generates random numbers in the matrix up to 7\n",
    "print(sep)\n",
    "print(np.random.randint(4,7, size=(3,3))) #generates random numbers between 4, and 7 inclusive"
   ]
  },
  {
   "cell_type": "code",
   "execution_count": 26,
   "metadata": {},
   "outputs": [
    {
     "name": "stdout",
     "output_type": "stream",
     "text": [
      "[[1. 0. 0.]\n",
      " [0. 1. 0.]\n",
      " [0. 0. 1.]]\n",
      "-----------------------------------------------------------------\n",
      "[[1. 0. 0. 0. 0.]\n",
      " [0. 1. 0. 0. 0.]\n",
      " [0. 0. 1. 0. 0.]\n",
      " [0. 0. 0. 1. 0.]\n",
      " [0. 0. 0. 0. 1.]]\n"
     ]
    }
   ],
   "source": [
    "#identity matrix - takes one value as the identity matrix is a square matrix\n",
    "\n",
    "print(np.identity(3))\n",
    "print(sep)\n",
    "print(np.identity(5))\n"
   ]
  },
  {
   "cell_type": "code",
   "execution_count": 27,
   "metadata": {},
   "outputs": [
    {
     "name": "stdout",
     "output_type": "stream",
     "text": [
      "[[1 2 3]\n",
      " [1 2 3]\n",
      " [1 2 3]\n",
      " [4 5 6]\n",
      " [4 5 6]\n",
      " [4 5 6]]\n",
      "-----------------------------------------------------------------\n",
      "[[4 5 6]\n",
      " [4 5 6]\n",
      " [4 5 6]\n",
      " [4 5 6]]\n"
     ]
    }
   ],
   "source": [
    "#repeating an array a few times\n",
    "arr3 = np.array([[1,2,3], [4,5,6]])\n",
    "arr4 = np.array([[4,5,6]])\n",
    "r1 = np.repeat(arr3,3, axis=0)\n",
    "r2 = np.repeat(arr4,4,axis=0)\n",
    "print(r1)\n",
    "print(sep)\n",
    "print(r2)"
   ]
  },
  {
   "cell_type": "markdown",
   "metadata": {},
   "source": [
    "### Practice Task \n",
    "- try and initialise the matrix below\n",
    "![Sample Matrix](SampleArray.png)"
   ]
  },
  {
   "cell_type": "code",
   "execution_count": 28,
   "metadata": {},
   "outputs": [
    {
     "name": "stdout",
     "output_type": "stream",
     "text": [
      "[[1. 1. 1. 1. 1.]\n",
      " [1. 0. 0. 0. 1.]\n",
      " [1. 0. 9. 0. 1.]\n",
      " [1. 0. 0. 0. 1.]\n",
      " [1. 1. 1. 1. 1.]]\n",
      "\n",
      "-----------------------------------------------------------------\n",
      "[[1. 1. 1. 1. 1.]\n",
      " [1. 0. 0. 0. 1.]\n",
      " [1. 0. 9. 0. 1.]\n",
      " [1. 0. 0. 0. 1.]\n",
      " [1. 1. 1. 1. 1.]]\n"
     ]
    }
   ],
   "source": [
    "sampleArr = np.ones((5,5))\n",
    "sampleArr\n",
    "for i in range(1,4):\n",
    "  sampleArr[i][1:4] =[0,0,0]\n",
    "sampleArr[2][2] = 9\n",
    "print(sampleArr)\n",
    "\n",
    "#alternative solution\n",
    "output = np.ones((5,5)) # populate full matrix\n",
    "z = np.zeros((3,3)) #generate a 3x3 matrix with zeros\n",
    "z[1,1] = 9\n",
    "#write the 3x3 matrix into its correct position\n",
    "output [1:4, 1:4] = z\n",
    "print()\n",
    "print(sep)\n",
    "print(output)\n"
   ]
  },
  {
   "cell_type": "code",
   "execution_count": 29,
   "metadata": {},
   "outputs": [
    {
     "name": "stdout",
     "output_type": "stream",
     "text": [
      "a = [100   2   3]\n"
     ]
    }
   ],
   "source": [
    "##### Copying arrays\n",
    "a = np.array([1,2,3])\n",
    "b = a\n",
    "b\n",
    "b[0] = 100 # this will alter the value in a[0] too as both b and a point to the same reference\n",
    "a\n",
    "\n",
    "b = a.copy()\n",
    "b[0] = 100\n",
    "print(f'a = {a}')"
   ]
  },
  {
   "cell_type": "markdown",
   "metadata": {},
   "source": [
    "### NP Mathematics"
   ]
  },
  {
   "cell_type": "code",
   "execution_count": 30,
   "metadata": {},
   "outputs": [
    {
     "name": "stdout",
     "output_type": "stream",
     "text": [
      "a: [1 2 3 4]\n",
      "a + 2: [3 4 5 6]\n",
      "a * 2: [2 4 6 8]\n",
      "a / 2: [0.5 1.  1.5 2. ]\n",
      "-----------------------------------------------------------------\n",
      "b: [1 0 1 0]\n",
      "a + b: [2 2 4 4]\n",
      "a pow 2: [ 1  4  9 16]\n",
      "sin of values in a : [ 0.84147098  0.90929743  0.14112001 -0.7568025 ]\n",
      "cos of values in a : [ 0.54030231 -0.41614684 -0.9899925  -0.65364362]\n"
     ]
    }
   ],
   "source": [
    "a = np.array([1,2,3,4])\n",
    "#element wise arithmetic\n",
    "print( f'a: {a}')\n",
    "print( f'a + 2: {a + 2}')\n",
    "print(f'a * 2: {a * 2}')\n",
    "print(f'a / 2: {a / 2}')\n",
    "b = np.array([1,0,1,0])\n",
    "print(sep)\n",
    "print( f'b: {b}')\n",
    "print(f'a + b: {a + b}') # both array must be of the same shape\n",
    "\n",
    "print(f'a pow 2: {a**2}')\n",
    "\n",
    "# trig functions on an np array\n",
    "print(f'sin of values in a : {np.sin(a)}')\n",
    "print(f'cos of values in a : {np.cos(a)}')\n",
    "\n"
   ]
  },
  {
   "cell_type": "markdown",
   "metadata": {},
   "source": [
    "#### Linear Algebra operations on np arrays\n",
    "\n",
    "- Remember to multiply matrices, the column of the first matrix must be equal to rows of the second matrix\n",
    "- use np.matmul() method to multiply matrices\n",
    "![Matrix Multiplication](matrixMultiplication.png)"
   ]
  },
  {
   "cell_type": "code",
   "execution_count": 44,
   "metadata": {},
   "outputs": [
    {
     "name": "stdout",
     "output_type": "stream",
     "text": [
      "[[1. 1. 1.]\n",
      " [1. 1. 1.]]\n",
      "[[2 2]\n",
      " [2 2]\n",
      " [2 2]]\n",
      " a * b: [[6. 6.]\n",
      " [6. 6.]]\n"
     ]
    }
   ],
   "source": [
    "a = np.ones((2,3))\n",
    "print(a)\n",
    "b = np.full((3,2),2, dtype='int32')\n",
    "print(b)\n",
    "\n",
    "#multiplying a and b should result in a 2x2 matrix\n",
    "\n",
    "print(f' a * b: {np.matmul(a, b)}')\n"
   ]
  }
 ],
 "metadata": {
  "kernelspec": {
   "display_name": "Python 3",
   "language": "python",
   "name": "python3"
  },
  "language_info": {
   "codemirror_mode": {
    "name": "ipython",
    "version": 3
   },
   "file_extension": ".py",
   "mimetype": "text/x-python",
   "name": "python",
   "nbconvert_exporter": "python",
   "pygments_lexer": "ipython3",
   "version": "3.11.4"
  },
  "orig_nbformat": 4
 },
 "nbformat": 4,
 "nbformat_minor": 2
}
