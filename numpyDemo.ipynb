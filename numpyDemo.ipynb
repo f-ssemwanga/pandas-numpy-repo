{
 "cells": [
  {
   "cell_type": "markdown",
   "metadata": {},
   "source": [
    "![What is NumPy](whatIsNumPy.png)\n",
    "\n",
    "![Why NumPy](whyNumPy.png)"
   ]
  },
  {
   "cell_type": "markdown",
   "metadata": {},
   "source": [
    "### Loading in NumPy"
   ]
  },
  {
   "cell_type": "code",
   "execution_count": 46,
   "metadata": {},
   "outputs": [],
   "source": [
    "import numpy as np\n",
    "sep =\"-----------------------------------------------------------------\""
   ]
  },
  {
   "cell_type": "code",
   "execution_count": 47,
   "metadata": {},
   "outputs": [
    {
     "name": "stdout",
     "output_type": "stream",
     "text": [
      "[1 2 3 4]\n"
     ]
    }
   ],
   "source": [
    "#initialise an array\n",
    "\n",
    "arr = np.array([1,2,3,4], dtype='int32')\n",
    "print(arr)"
   ]
  },
  {
   "cell_type": "code",
   "execution_count": 48,
   "metadata": {},
   "outputs": [
    {
     "name": "stdout",
     "output_type": "stream",
     "text": [
      "[[1. 3. 6.]\n",
      " [3. 5. 7.]]\n"
     ]
    }
   ],
   "source": [
    "arr2 = np.array([[1., 3., 6.],[3.,5., 7.]])\n",
    "print(arr2)"
   ]
  },
  {
   "cell_type": "code",
   "execution_count": 49,
   "metadata": {},
   "outputs": [
    {
     "name": "stdout",
     "output_type": "stream",
     "text": [
      "(4,)\n",
      "(2, 3)\n",
      "2\n",
      "int32\n",
      "float64\n"
     ]
    }
   ],
   "source": [
    "# get dimensions\n",
    "print(arr.shape)\n",
    "print(arr2.shape)\n",
    "print(arr2.ndim)\n",
    "print(arr.dtype)\n",
    "print(arr2.dtype)"
   ]
  },
  {
   "cell_type": "code",
   "execution_count": 50,
   "metadata": {},
   "outputs": [
    {
     "data": {
      "text/plain": [
       "16"
      ]
     },
     "execution_count": 50,
     "metadata": {},
     "output_type": "execute_result"
    }
   ],
   "source": [
    "#get size\n",
    "arr.itemsize\n",
    "#total size\n",
    "arr.size * arr.itemsize\n",
    "#above is similar to\n",
    "arr.nbytes"
   ]
  },
  {
   "cell_type": "code",
   "execution_count": 51,
   "metadata": {},
   "outputs": [
    {
     "data": {
      "text/plain": [
       "48"
      ]
     },
     "execution_count": 51,
     "metadata": {},
     "output_type": "execute_result"
    }
   ],
   "source": [
    "#applying the above to a float\n",
    "arr2.nbytes"
   ]
  },
  {
   "cell_type": "markdown",
   "metadata": {},
   "source": [
    "### Basics of Indexing  - Accessing / changing specific elements, rows, columns etc"
   ]
  },
  {
   "cell_type": "code",
   "execution_count": 52,
   "metadata": {},
   "outputs": [
    {
     "name": "stdout",
     "output_type": "stream",
     "text": [
      "[[ 1  2  3  4  5  6  7]\n",
      " [ 8  9 10 11 12 13 14]]\n"
     ]
    },
    {
     "data": {
      "text/plain": [
       "(2, 7)"
      ]
     },
     "execution_count": 52,
     "metadata": {},
     "output_type": "execute_result"
    }
   ],
   "source": [
    "a = np.array([[1,2,3,4,5,6,7], [8,9,10,11,12,13,14]])\n",
    "print(a)\n",
    "a.shape"
   ]
  },
  {
   "cell_type": "code",
   "execution_count": 53,
   "metadata": {},
   "outputs": [
    {
     "data": {
      "text/plain": [
       "13"
      ]
     },
     "execution_count": 53,
     "metadata": {},
     "output_type": "execute_result"
    }
   ],
   "source": [
    "#get a specific element [r,c]\n",
    "a[1,5] #prints 13 or a[1, -2]"
   ]
  },
  {
   "cell_type": "code",
   "execution_count": 54,
   "metadata": {},
   "outputs": [
    {
     "data": {
      "text/plain": [
       "array([1, 2, 3, 4, 5, 6, 7])"
      ]
     },
     "execution_count": 54,
     "metadata": {},
     "output_type": "execute_result"
    }
   ],
   "source": [
    "#get a specific row - first row\n",
    "a[0, :]"
   ]
  },
  {
   "cell_type": "code",
   "execution_count": 55,
   "metadata": {},
   "outputs": [
    {
     "data": {
      "text/plain": [
       "array([ 3, 10])"
      ]
     },
     "execution_count": 55,
     "metadata": {},
     "output_type": "execute_result"
    }
   ],
   "source": [
    "#get a specific column e.g. items in the second column\n",
    "a[:,2]"
   ]
  },
  {
   "cell_type": "code",
   "execution_count": 56,
   "metadata": {},
   "outputs": [
    {
     "data": {
      "text/plain": [
       "array([2, 4, 6])"
      ]
     },
     "execution_count": 56,
     "metadata": {},
     "output_type": "execute_result"
    }
   ],
   "source": [
    "#getting [startindex:endIndex:Stepsize]\n",
    "a[0, 1:6:2]"
   ]
  },
  {
   "cell_type": "code",
   "execution_count": 57,
   "metadata": {},
   "outputs": [
    {
     "name": "stdout",
     "output_type": "stream",
     "text": [
      "[[ 1  2  3  4  5  6  7]\n",
      " [ 8  9 10 11 12 20 14]]\n"
     ]
    }
   ],
   "source": [
    "#'change the content'\n",
    "a[1,5] = 20\n",
    "print(a)"
   ]
  },
  {
   "cell_type": "code",
   "execution_count": 58,
   "metadata": {},
   "outputs": [
    {
     "name": "stdout",
     "output_type": "stream",
     "text": [
      "[[ 1  2  5  4  5  6  7]\n",
      " [ 8  9  5 11 12 20 14]]\n"
     ]
    }
   ],
   "source": [
    "#replacing series of numbers e.g. values in a column - e.g. values in column 2\n",
    "a[:,2] = [5,5]\n",
    "print(a)"
   ]
  },
  {
   "cell_type": "code",
   "execution_count": 59,
   "metadata": {},
   "outputs": [
    {
     "name": "stdout",
     "output_type": "stream",
     "text": [
      "[[[1 2]\n",
      "  [3 4]]\n",
      "\n",
      " [[5 6]\n",
      "  [7 8]]]\n"
     ]
    }
   ],
   "source": [
    "#working with a 3d Array\n",
    "b = np.array(\n",
    " [[[1,2],\n",
    "   [3,4]],\n",
    "   [[5,6],\n",
    "   [7,8]]]\n",
    ")\n",
    "print(b)"
   ]
  },
  {
   "cell_type": "code",
   "execution_count": 60,
   "metadata": {},
   "outputs": [
    {
     "data": {
      "text/plain": [
       "4"
      ]
     },
     "execution_count": 60,
     "metadata": {},
     "output_type": "execute_result"
    }
   ],
   "source": [
    "#Getting  specific element (work outside in)\n",
    "#extracting 4 from the above array\n",
    "b[0,1,1]"
   ]
  },
  {
   "cell_type": "code",
   "execution_count": 61,
   "metadata": {},
   "outputs": [
    {
     "data": {
      "text/plain": [
       "array([[[1, 2],\n",
       "        [9, 9]],\n",
       "\n",
       "       [[5, 6],\n",
       "        [8, 8]]])"
      ]
     },
     "execution_count": 61,
     "metadata": {},
     "output_type": "execute_result"
    }
   ],
   "source": [
    "#replacing a subsequence\n",
    "b[:,1,:]  = [[9,9],[8,8]]\n",
    "b"
   ]
  },
  {
   "cell_type": "markdown",
   "metadata": {},
   "source": [
    "### Initialising different types of Arrays"
   ]
  },
  {
   "cell_type": "code",
   "execution_count": 62,
   "metadata": {},
   "outputs": [
    {
     "name": "stdout",
     "output_type": "stream",
     "text": [
      "[0. 0. 0. 0. 0.]\n",
      "[[0. 0. 0.]\n",
      " [0. 0. 0.]]\n",
      "[[[0. 0. 0.]\n",
      "  [0. 0. 0.]\n",
      "  [0. 0. 0.]]\n",
      "\n",
      " [[0. 0. 0.]\n",
      "  [0. 0. 0.]\n",
      "  [0. 0. 0.]]]\n"
     ]
    }
   ],
   "source": [
    "#All zero matrix\n",
    "print(np.zeros(5))\n",
    "print(np.zeros((2,3)))\n",
    "print(np.zeros ((2,3,3)))"
   ]
  },
  {
   "cell_type": "code",
   "execution_count": 63,
   "metadata": {},
   "outputs": [
    {
     "name": "stdout",
     "output_type": "stream",
     "text": [
      "[[[1]\n",
      "  [1]]\n",
      "\n",
      " [[1]\n",
      "  [1]]\n",
      "\n",
      " [[1]\n",
      "  [1]]\n",
      "\n",
      " [[1]\n",
      "  [1]]]\n"
     ]
    }
   ],
   "source": [
    "#all ones matrix\n",
    "print(np.ones ((4,2,1), dtype='int32'))"
   ]
  },
  {
   "cell_type": "code",
   "execution_count": 64,
   "metadata": {},
   "outputs": [
    {
     "name": "stdout",
     "output_type": "stream",
     "text": [
      "[[99. 99. 99.]\n",
      " [99. 99. 99.]]\n"
     ]
    }
   ],
   "source": [
    "#any other number using full, takes the shape and the values\n",
    "print(np.full((2,3),99, dtype='float32'))\n"
   ]
  },
  {
   "cell_type": "code",
   "execution_count": 65,
   "metadata": {},
   "outputs": [
    {
     "name": "stdout",
     "output_type": "stream",
     "text": [
      "[[4 4 4 4 4 4 4]\n",
      " [4 4 4 4 4 4 4]]\n",
      "[[5. 5. 5.]\n",
      " [5. 5. 5.]]\n"
     ]
    }
   ],
   "source": [
    "#array creation using the full_like() method\n",
    "#builds another array based on an existing array's shape\n",
    "print(np.full_like(a, 4))\n",
    "print(np.full_like(arr2,5))"
   ]
  },
  {
   "cell_type": "code",
   "execution_count": 68,
   "metadata": {},
   "outputs": [
    {
     "name": "stdout",
     "output_type": "stream",
     "text": [
      "[[[0.27388442 0.72155014 0.77703403]\n",
      "  [0.83100628 0.52279152 0.08463212]]\n",
      "\n",
      " [[0.72842988 0.54921537 0.62222324]\n",
      "  [0.63981508 0.03000919 0.39556903]]\n",
      "\n",
      " [[0.74545388 0.77537723 0.95658895]\n",
      "  [0.06254992 0.40850766 0.96128596]]\n",
      "\n",
      " [[0.64528414 0.45969057 0.13282374]\n",
      "  [0.15869998 0.00447471 0.0376523 ]]]\n",
      "-----------------------------------------------------------------\n",
      "[[0.27538926 0.96677352 0.85673937 0.44913674 0.24570474 0.18316144\n",
      "  0.44768493]\n",
      " [0.81290634 0.71563521 0.45109524 0.65160913 0.33388964 0.87681901\n",
      "  0.85525887]]\n"
     ]
    }
   ],
   "source": [
    "#Initialise a matrix of random numbers - passing the shape\n",
    "print(np.random.rand(4,2,3))\n",
    "\n",
    "#building random array using an existing shape\n",
    "print(sep)\n",
    "print(np.random.random_sample(a.shape))"
   ]
  },
  {
   "cell_type": "code",
   "execution_count": 76,
   "metadata": {},
   "outputs": [
    {
     "name": "stdout",
     "output_type": "stream",
     "text": [
      "[[1 6 0]\n",
      " [2 0 0]\n",
      " [0 1 6]]\n",
      "-----------------------------------------------------------------\n",
      "[[4 4 6]\n",
      " [6 6 4]\n",
      " [4 6 5]]\n"
     ]
    }
   ],
   "source": [
    "#random integer values\n",
    "print(np.random.randint(7, size=(3,3))) #generates random numbers in the matrix up to 7\n",
    "print(sep)\n",
    "print(np.random.randint(4,7, size=(3,3))) #generates random numbers between 4, and 7 inclusive"
   ]
  },
  {
   "cell_type": "code",
   "execution_count": 77,
   "metadata": {},
   "outputs": [
    {
     "name": "stdout",
     "output_type": "stream",
     "text": [
      "[[1. 0. 0.]\n",
      " [0. 1. 0.]\n",
      " [0. 0. 1.]]\n",
      "-----------------------------------------------------------------\n",
      "[[1. 0. 0. 0. 0.]\n",
      " [0. 1. 0. 0. 0.]\n",
      " [0. 0. 1. 0. 0.]\n",
      " [0. 0. 0. 1. 0.]\n",
      " [0. 0. 0. 0. 1.]]\n"
     ]
    }
   ],
   "source": [
    "#identity matrix - takes one value as the identity matrix is a square matrix\n",
    "\n",
    "print(np.identity(3))\n",
    "print(sep)\n",
    "print(np.identity(5))\n"
   ]
  },
  {
   "cell_type": "code",
   "execution_count": 82,
   "metadata": {},
   "outputs": [
    {
     "name": "stdout",
     "output_type": "stream",
     "text": [
      "[[1 2 3]\n",
      " [1 2 3]\n",
      " [1 2 3]\n",
      " [4 5 6]\n",
      " [4 5 6]\n",
      " [4 5 6]]\n",
      "-----------------------------------------------------------------\n",
      "[[4 5 6]\n",
      " [4 5 6]\n",
      " [4 5 6]\n",
      " [4 5 6]]\n"
     ]
    }
   ],
   "source": [
    "#repeating an array a few times\n",
    "arr3 = np.array([[1,2,3], [4,5,6]])\n",
    "arr4 = np.array([[4,5,6]])\n",
    "r1 = np.repeat(arr3,3, axis=0)\n",
    "r2 = np.repeat(arr4,4,axis=0)\n",
    "print(r1)\n",
    "print(sep)\n",
    "print(r2)"
   ]
  },
  {
   "cell_type": "markdown",
   "metadata": {},
   "source": [
    "### Practice Task \n",
    "- try and initialise the matrix below\n",
    "![Sample Matrix](SampleArray.png)"
   ]
  },
  {
   "cell_type": "code",
   "execution_count": 93,
   "metadata": {},
   "outputs": [
    {
     "name": "stdout",
     "output_type": "stream",
     "text": [
      "[[1. 1. 1. 1. 1.]\n",
      " [1. 0. 0. 0. 1.]\n",
      " [1. 0. 9. 0. 1.]\n",
      " [1. 0. 0. 0. 1.]\n",
      " [1. 1. 1. 1. 1.]]\n",
      "\n",
      "-----------------------------------------------------------------\n",
      "[[1. 1. 1. 1. 1.]\n",
      " [1. 0. 0. 0. 1.]\n",
      " [1. 0. 9. 0. 1.]\n",
      " [1. 0. 0. 0. 1.]\n",
      " [1. 1. 1. 1. 1.]]\n"
     ]
    }
   ],
   "source": [
    "sampleArr = np.ones((5,5))\n",
    "sampleArr\n",
    "for i in range(1,4):\n",
    "  sampleArr[i][1:4] =[0,0,0]\n",
    "sampleArr[2][2] = 9\n",
    "print(sampleArr)\n",
    "\n",
    "#alternative solution\n",
    "output = np.ones((5,5)) # populate full matrix\n",
    "z = np.zeros((3,3)) #generate a 3x3 matrix with zeros\n",
    "z[1,1] = 9\n",
    "#write the 3x3 matrix into its correct position\n",
    "output [1:4, 1:4] = z\n",
    "print()\n",
    "print(sep)\n",
    "print(output)\n"
   ]
  },
  {
   "cell_type": "code",
   "execution_count": 95,
   "metadata": {},
   "outputs": [
    {
     "data": {
      "text/plain": [
       "array([100,   2,   3])"
      ]
     },
     "execution_count": 95,
     "metadata": {},
     "output_type": "execute_result"
    }
   ],
   "source": [
    "##### Copying arrays\n",
    "a = np.array([1,2,3])\n",
    "b = a\n",
    "b\n",
    "b[0] = 100 # this will alter the value in a[0] too as both b and a point to the same reference\n",
    "a\n",
    "\n",
    "b = a.copy()\n",
    "b[0] = 100\n",
    "print(f'a = {a}')"
   ]
  },
  {
   "cell_type": "markdown",
   "metadata": {},
   "source": [
    "### NP Mathematics"
   ]
  },
  {
   "cell_type": "code",
   "execution_count": 104,
   "metadata": {},
   "outputs": [
    {
     "name": "stdout",
     "output_type": "stream",
     "text": [
      "a: [1 2 3 4]\n",
      "a + 2: [3 4 5 6]\n",
      "a * 2: [2 4 6 8]\n",
      "a / 2: [0.5 1.  1.5 2. ]\n",
      "-----------------------------------------------------------------\n",
      "b: [1 0 1 0]\n",
      "a + b: [2 2 4 4]\n",
      "a pow 2: [ 1  4  9 16]\n",
      "sin of values in a : [ 0.84147098  0.90929743  0.14112001 -0.7568025 ]\n",
      "cos of values in a : [ 0.54030231 -0.41614684 -0.9899925  -0.65364362]\n"
     ]
    }
   ],
   "source": [
    "a = np.array([1,2,3,4])\n",
    "#element wise arithmetic\n",
    "print( f'a: {a}')\n",
    "print( f'a + 2: {a + 2}')\n",
    "print(f'a * 2: {a * 2}')\n",
    "print(f'a / 2: {a / 2}')\n",
    "b = np.array([1,0,1,0])\n",
    "print(sep)\n",
    "print( f'b: {b}')\n",
    "print(f'a + b: {a + b}') # both array must be of the same shape\n",
    "\n",
    "print(f'a pow 2: {a**2}')\n",
    "\n",
    "# trig functions on an np array\n",
    "print(f'sin of values in a : {np.sin(a)}')\n",
    "print(f'cos of values in a : {np.cos(a)}')\n",
    "\n"
   ]
  },
  {
   "cell_type": "markdown",
   "metadata": {},
   "source": [
    "#### Linear Algebra operations on np arrays"
   ]
  },
  {
   "cell_type": "code",
   "execution_count": null,
   "metadata": {},
   "outputs": [],
   "source": []
  }
 ],
 "metadata": {
  "kernelspec": {
   "display_name": "Python 3",
   "language": "python",
   "name": "python3"
  },
  "language_info": {
   "codemirror_mode": {
    "name": "ipython",
    "version": 3
   },
   "file_extension": ".py",
   "mimetype": "text/x-python",
   "name": "python",
   "nbconvert_exporter": "python",
   "pygments_lexer": "ipython3",
   "version": "3.11.4"
  },
  "orig_nbformat": 4
 },
 "nbformat": 4,
 "nbformat_minor": 2
}
