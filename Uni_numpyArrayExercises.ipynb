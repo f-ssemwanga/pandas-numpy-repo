{
 "cells": [
  {
   "cell_type": "markdown",
   "metadata": {},
   "source": [
    "## Exercise one\n",
    "Write a small Numpy array by:\n",
    "\n",
    "- generating 10000 random numbers in a 2-dimensional array\n",
    "- for each value in the array calculate the square root\n",
    "- and then sum all those calculations."
   ]
  },
  {
   "cell_type": "code",
   "execution_count": 34,
   "metadata": {},
   "outputs": [
    {
     "name": "stdout",
     "output_type": "stream",
     "text": [
      " random Array:\n",
      " [[7271  861 5391 ... 4390 2328 8005]\n",
      " [2932 7778  198 ... 5178 9562 8933]\n",
      " [8309 5950 2839 ... 1215 1532 7577]\n",
      " ...\n",
      " [7491 9180 1219 ... 8033    2 6369]\n",
      " [1950 6733 7834 ... 7706 3720  303]\n",
      " [ 987 4441 4910 ... 9209  208 2666]]\n",
      "\n",
      "--------------------------------------------------------------------------\n",
      "\n",
      " Squareroot of random array:\n",
      " [[85.27015891 29.3428015  73.4234295  ... 66.25707509 48.24935233\n",
      "  89.47066558]\n",
      " [54.14794548 88.19297024 14.07124728 ... 71.95832127 97.78547949\n",
      "  94.51454914]\n",
      " [91.15371633 77.1362431  53.28226722 ... 34.85685012 39.14077158\n",
      "  87.04596487]\n",
      " ...\n",
      " [86.55056326 95.81231654 34.9141805  ... 89.62700486  1.41421356\n",
      "  79.80601481]\n",
      " [44.15880433 82.0548597  88.50988645 ... 87.78382539 60.99180273\n",
      "  17.40689519]\n",
      " [31.41655614 66.64082833 70.07139217 ... 95.96353474 14.4222051\n",
      "  51.63332257]]\n",
      "\n",
      "--------------------------------------------------------------------------\n",
      "\n",
      "Total of all random values: 500327825\n",
      "Total of all square roots: 6667763.110526141\n"
     ]
    }
   ],
   "source": [
    "import numpy as np\n",
    "#set seed for reproducibility\n",
    "np.random.seed(42)\n",
    "sep ='\\n--------------------------------------------------------------------------\\n'\n",
    "#generate 10000 random numbers into a 100x1000 array\n",
    "data = np.random.randint(1,10000, size=(500,200))\n",
    "print(f' random Array:\\n {data[:10, :]}')\n",
    "\n",
    "#calculate the square root of each value\n",
    "square_root =np.sqrt(data)\n",
    "print(sep)\n",
    "print(f' Squareroot of random array:\\n {square_root[:10, :]}')\n",
    "\n",
    "#sum of random values in array\n",
    "print(sep)\n",
    "print(f'Total of all random values: {np.sum(data)}')\n",
    "print(f'Total of all square roots: {np.sum(square_root)}')\n"
   ]
  },
  {
   "cell_type": "markdown",
   "metadata": {},
   "source": [
    "### Exercise two\n",
    "\n",
    "Import this [Random CSV File](RandomeValues.csv) into a program and using a NumPy array select the following data:\n",
    "\n",
    "- All the data in rows, 5,7 and 9.\n",
    "- All the data in columns 0, 7, 10.\n",
    "- The data in columns 1 to 3 (exclusively), from rows 7 to 9 (inclusively)."
   ]
  },
  {
   "cell_type": "code",
   "execution_count": 35,
   "metadata": {},
   "outputs": [
    {
     "data": {
      "text/plain": [
       "array([[ 68.,  54.,  95.,  65.,  68.,   6.,  50.,  63.,  99.,  81.,  14.],\n",
       "       [  5.,  85.,  83.,  22.,  39.,  26.,  73.,  77.,  97.,  75.,  33.],\n",
       "       [  1.,  46.,  39.,  53.,  67.,  19.,  87.,   3.,  84.,  58.,  26.],\n",
       "       [ 83.,  81.,  31.,  96.,  13.,   3.,  58.,  32., 100., 100.,  96.],\n",
       "       [ 71.,   2.,  63.,  84.,  85.,   5.,  67.,  35.,  76.,  77.,  76.],\n",
       "       [ 79.,  67.,  44., 100.,  89.,  71.,  27.,  46.,  45.,  13.,  32.],\n",
       "       [100.,  27.,  23.,  76.,  53.,  86.,   2.,  59.,  30.,  52.,   2.],\n",
       "       [ 37.,  43.,  10.,  16.,  77.,  40.,  62.,   4.,  22.,  64.,  15.],\n",
       "       [ 97.,  61.,   8.,  99.,  67.,  42.,  59.,   7.,  86.,  42.,  21.],\n",
       "       [ 80.,  93.,  76.,  46.,  46.,  35.,  57.,  70.,  93.,  36.,  86.],\n",
       "       [ 25.,  23.,  89.,  58.,  89.,  52.,  21.,  65.,  52.,  25.,  45.]])"
      ]
     },
     "execution_count": 35,
     "metadata": {},
     "output_type": "execute_result"
    }
   ],
   "source": [
    "fileData = np.genfromtxt(\"RandomValues.csv\", delimiter=\",\")\n",
    "fileData"
   ]
  },
  {
   "cell_type": "code",
   "execution_count": 36,
   "metadata": {},
   "outputs": [
    {
     "name": "stdout",
     "output_type": "stream",
     "text": [
      "All data in row 5, 7 and 9: [[ 71.   2.  63.  84.  85.   5.  67.  35.  76.  77.  76.]\n",
      " [100.  27.  23.  76.  53.  86.   2.  59.  30.  52.   2.]\n",
      " [ 97.  61.   8.  99.  67.  42.  59.   7.  86.  42.  21.]]\n"
     ]
    }
   ],
   "source": [
    "print(f'All data in row 5, 7 and 9: {fileData[[4,6,8],:]}')"
   ]
  },
  {
   "cell_type": "code",
   "execution_count": 37,
   "metadata": {},
   "outputs": [
    {
     "name": "stdout",
     "output_type": "stream",
     "text": [
      "All data in columns 0, 7 and 10: [[ 68.  63.  14.]\n",
      " [  5.  77.  33.]\n",
      " [  1.   3.  26.]\n",
      " [ 83.  32.  96.]\n",
      " [ 71.  35.  76.]\n",
      " [ 79.  46.  32.]\n",
      " [100.  59.   2.]\n",
      " [ 37.   4.  15.]\n",
      " [ 97.   7.  21.]\n",
      " [ 80.  70.  86.]\n",
      " [ 25.  65.  45.]]\n"
     ]
    }
   ],
   "source": [
    "print(f'All data in columns 0, 7 and 10: {fileData[:,[0,7,10]]}')"
   ]
  },
  {
   "cell_type": "code",
   "execution_count": 38,
   "metadata": {},
   "outputs": [
    {
     "name": "stdout",
     "output_type": "stream",
     "text": [
      "All data in columns 1 to 3 exclusive, from rows 7 to 9 inclusive: [[100.  27.  23.]\n",
      " [ 37.  43.  10.]\n",
      " [ 97.  61.   8.]]\n"
     ]
    }
   ],
   "source": [
    "print(f'All data in columns 1 to 3 exclusive, from rows 7 to 9 inclusive: {fileData[6:9,0:3]}')"
   ]
  },
  {
   "cell_type": "markdown",
   "metadata": {},
   "source": [
    "### Exercise 3\n",
    "Extract from [Sales Data CSV](SalesData.csv) the column and row headers into two separate arrays. Then extract the data values into a separate 2D array. Using these 3 arrays extract the following data:\n",
    "\n",
    "- All the sales for the second quarter (Jul-18 to Sep-18 inclusive) calculating the total and the mean for each month.\n",
    "- All the sales for stores L3 and L1, for the first and third quarter calculating the total and the mean for each quarter for each store.\n",
    "- All the sales for N6 and N4 that are lower than 400 and list the months in which the occur."
   ]
  },
  {
   "cell_type": "code",
   "execution_count": 43,
   "metadata": {},
   "outputs": [
    {
     "name": "stdout",
     "output_type": "stream",
     "text": [
      "\n",
      "--------------------------------------------------------------------------\n",
      "\n",
      "Column Headings:\n",
      "['Apr-18' 'May-18' 'Jun-18' 'Jul-18' 'Aug-18' 'Sep-18' 'Oct-18' 'Nov-18'\n",
      " 'Dec-18' 'Jan-19' 'Feb-19' 'Mar-19']\n",
      "\n",
      "--------------------------------------------------------------------------\n",
      "\n",
      "Row Headings:\n",
      "['L3' 'L1' 'P2' 'N6' 'N4' 'B8']\n",
      "\n",
      "--------------------------------------------------------------------------\n",
      "\n",
      "Main Data\n",
      "[[390 345 379 353 365 326 363 459 539 474 340 343]\n",
      " [392 377 347 395 330 332 340 446 573 464 223 216]\n",
      " [250 270 300 398 376 382 306 489 552 488 298 269]\n",
      " [460 480 450 310 392 383 314 402 640 495 215 243]\n",
      " [460 480 450 387 388 320 337 478 676 408 338 263]\n",
      " [470 510 360 472 423 385 353 464 598 419 459 659]]\n"
     ]
    }
   ],
   "source": [
    "data = np.genfromtxt('SalesData.csv', delimiter=',', dtype=str)\n",
    "columnHeadings = data[0,1:]\n",
    "rowHeadings = data[1:,0]\n",
    "mainData = data[1:,1:]\n",
    "rawData = mainData.astype('int32')\n",
    "print(sep)\n",
    "print(f'Column Headings:\\n{columnHeadings}')\n",
    "print(sep)\n",
    "print(f'Row Headings:\\n{rowHeadings}')\n",
    "print(sep)\n",
    "print(f'Main Data\\n{rawData}')"
   ]
  },
  {
   "cell_type": "code",
   "execution_count": 52,
   "metadata": {},
   "outputs": [
    {
     "name": "stdout",
     "output_type": "stream",
     "text": [
      "Second Quarter data: [[353 365 326]\n",
      " [395 330 332]\n",
      " [398 376 382]\n",
      " [310 392 383]\n",
      " [387 388 320]\n",
      " [472 423 385]]\n",
      "Second Quarter Total Sales: 6717\n",
      "Jul-18 total sales: 2315\n",
      "Jul-18 total sales: 385.833\n",
      "\n",
      "--------------------------------------------------------------------------\n",
      "\n",
      "Aug-18 total sales: 2274\n",
      "Aug-18 total sales: 379.000\n",
      "\n",
      "--------------------------------------------------------------------------\n",
      "\n",
      "Sep-18 total sales: 2128\n",
      "Sep-18 total sales: 354.667\n",
      "\n",
      "--------------------------------------------------------------------------\n",
      "\n"
     ]
    }
   ],
   "source": [
    "#All the sales for the second quarter (Jul-18 to Sep-18 inclusive) \n",
    "#calculating the total and the mean for each month.\n",
    "secondQtrData = rawData[0:,3:6]\n",
    "print(f'Second Quarter data: {secondQtrData}')\n",
    "print(f'Second Quarter Total Sales: {np.sum(secondQtrData)}')\n",
    "for i in range(3,6):\n",
    "  print(f'{columnHeadings[i]} total sales: {np.sum(rawData[0:,i])}')\n",
    "  print(f'{columnHeadings[i]} total sales: {np.mean(rawData[0:,i]):.3f}')\n",
    "  print(sep)\n"
   ]
  },
  {
   "cell_type": "code",
   "execution_count": 62,
   "metadata": {},
   "outputs": [
    {
     "name": "stdout",
     "output_type": "stream",
     "text": [
      "[392 377 347 340 446 573] |[390 345 379 363 459 539]\n",
      "\n",
      "--------------------------------------------------------------------------\n",
      "\n",
      "Total sales for L1 Store for 1st and 3rd Quarter : 2475\n",
      "Mean sales for L1 Store for 1st and 3rd Quarter : 412.5\n",
      "\n",
      "--------------------------------------------------------------------------\n",
      "\n",
      "Total sales for L3 Store for 1st and 3rd Quarter : 2475\n",
      "Mean sales for L3 Store for 1st and 3rd Quarter : 412.5\n"
     ]
    }
   ],
   "source": [
    "#All the sales for stores L3 and L1, \n",
    "# for the first and third quarter calculating the total \n",
    "# and the mean for each quarter for each store.\n",
    "\n",
    "L1_SalesData_first_third_qtr =rawData[1,[0,1,2,6,7,8]]\n",
    "L3_SalesData_first_third_qtr =rawData[0,[0,1,2,6,7,8]]\n",
    "print(f'{L1_SalesData_first_third_qtr} |{L3_SalesData_first_third_qtr}' )\n",
    "print(sep)\n",
    "print(f'Total sales for L1 Store for 1st and 3rd Quarter : {np.sum(L1_SalesData_first_third_qtr)}')\n",
    "print(f'Mean sales for L1 Store for 1st and 3rd Quarter : {np.mean(L1_SalesData_first_third_qtr)}')\n",
    "print(sep)\n",
    "print(f'Total sales for L3 Store for 1st and 3rd Quarter : {np.sum(L3_SalesData_first_third_qtr)}')\n",
    "print(f'Mean sales for L3 Store for 1st and 3rd Quarter : {np.mean(L3_SalesData_first_third_qtr)}')"
   ]
  },
  {
   "cell_type": "markdown",
   "metadata": {},
   "source": [
    "#### Exercise four\n",
    "The random walk problem can be used as an interesting investigation into probability. Consider the following:\n",
    "\n",
    "- A bug lives in the middle of a long thin island where it can only move left or right. The island is 7 units (steps) long. If the bug reaches the edge of the island in either direction it will fall off and drown in the sea. The bug can only move one step in either direction. If the direction is randomly selected how many steps will it take before the bug falls off?\n",
    "- Investigate ‘random walks’ and using the code in the core text as a starting point write a program to test the above scenario over 100 iterations. Collect the step count in an appropriate structure and then apply appropriate statistics to describe this data."
   ]
  },
  {
   "cell_type": "code",
   "execution_count": 91,
   "metadata": {},
   "outputs": [
    {
     "name": "stdout",
     "output_type": "stream",
     "text": [
      "Average steps: 15.0\n",
      "Maximum steps: 15\n",
      "Min steps: 15\n"
     ]
    }
   ],
   "source": [
    "#Plan\n",
    "#simulate the bugs movements over 100 iterations and collect the step count in each iteration\n",
    "#analyse the data to describe the bug's behaviour\n",
    "\n",
    "import random\n",
    "def random_walk(steps=7):\n",
    "  pos = 0\n",
    "  step_count = 0\n",
    "  \n",
    "  while pos != -steps and pos != steps:\n",
    "    direction = random.choice([-1,1]) # where -1 = Left and 1 = right\n",
    "    pos += direction\n",
    "    step_count +=1\n",
    "  return step_count\n",
    "def simulate_random_walks(iterations=100):\n",
    "  step_counts = []\n",
    "  \n",
    "  for _ in range(iterations):\n",
    "    step_count =random_walk()\n",
    "    step_counts.append(step_count)\n",
    "    return step_counts\n",
    "\n",
    "def analyse_random_walks(step_counts):\n",
    "  average_steps = sum(step_counts)/len(step_counts)\n",
    "  max_steps = max(step_counts)\n",
    "  min_steps = min(step_counts)\n",
    "  \n",
    "  print(f'Average steps: {average_steps}')\n",
    "  print(f'Maximum steps: {max_steps}')\n",
    "  print(f'Min steps: {min_steps}')\n",
    "  \n",
    "if __name__ == \"__main__\":\n",
    "  iterations = 100\n",
    "  step_counts = simulate_random_walks(iterations)\n",
    "  analyse_random_walks(step_counts)"
   ]
  },
  {
   "cell_type": "code",
   "execution_count": 80,
   "metadata": {},
   "outputs": [
    {
     "data": {
      "text/plain": [
       "[29]"
      ]
     },
     "execution_count": 80,
     "metadata": {},
     "output_type": "execute_result"
    }
   ],
   "source": [
    "simulate_random_walks()"
   ]
  },
  {
   "cell_type": "markdown",
   "metadata": {},
   "source": [
    "### Exercise five\n",
    "\n",
    "Investigate what sorting algorithms are used by numpy.sort() function and write a short summary (about 200words) of which you would use for datasets with particular features, such as size, and why?\n",
    "\n",
    " - numpy.sort() - uses a hybrid between quick sort and  heapsort to achieve efficient sorting performance.\n",
    " - Starts with quick sort switching to heap sort if the recursion depth is exceeded leading to a worst case  performance of O(nlog(n))\n",
    " - For small datasets  the choice of sorting is not critical and both quick sort and heap sorts perform well on small datasets.\n",
    " -The ability to switch becomes advantageous with large datasets which leads to reliable performance regardless of the data distribution"
   ]
  }
 ],
 "metadata": {
  "kernelspec": {
   "display_name": "Python 3",
   "language": "python",
   "name": "python3"
  },
  "language_info": {
   "codemirror_mode": {
    "name": "ipython",
    "version": 3
   },
   "file_extension": ".py",
   "mimetype": "text/x-python",
   "name": "python",
   "nbconvert_exporter": "python",
   "pygments_lexer": "ipython3",
   "version": "3.11.4"
  },
  "orig_nbformat": 4
 },
 "nbformat": 4,
 "nbformat_minor": 2
}
